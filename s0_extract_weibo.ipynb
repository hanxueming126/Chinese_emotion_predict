{
 "cells": [
  {
   "cell_type": "code",
   "execution_count": 1,
   "metadata": {},
   "outputs": [],
   "source": [
    "import os\n",
    "import re\n",
    "import csv\n",
    "import pickle\n",
    "import pandas as pd\n",
    "from tqdm import tqdm\n",
    "from collections import Counter"
   ]
  },
  {
   "cell_type": "code",
   "execution_count": null,
   "metadata": {},
   "outputs": [],
   "source": []
  },
  {
   "cell_type": "code",
   "execution_count": 2,
   "metadata": {},
   "outputs": [],
   "source": [
    "def read_table(path):\n",
    "    print('read', path)\n",
    "    headers = None\n",
    "    table = []\n",
    "\n",
    "    fp = open(path, encoding='utf8', errors='ignore')\n",
    "\n",
    "    for line in tqdm(fp):\n",
    "        line = line.strip()\n",
    "        if line:\n",
    "            if headers is None:\n",
    "                headers = line.split(',')\n",
    "                continue\n",
    "\n",
    "            row = line.split(',')\n",
    "            if len(row) == len(headers):\n",
    "                table.append(row)\n",
    "#     df = pd.DataFrame(table[:20], columns=headers)\n",
    "#     emotion = []\n",
    "#     for x in tqdm(table):\n",
    "#         text = x[6]\n",
    "#         m = re.findall(r'\\[[\\u4e00-\\u9fff]{1,3}\\]', text)\n",
    "#         if m:\n",
    "#             emotion += m\n",
    "#     sample = [\n",
    "#         x\n",
    "#         for x in sorted(list(Counter(emotion).items()), key=lambda x: x[1], reverse=True)\n",
    "#         if x[1] >= 500\n",
    "#     ]\n",
    "#     print(len(sample))\n",
    "#     print(sample[:10])\n",
    "    return table"
   ]
  },
  {
   "cell_type": "code",
   "execution_count": null,
   "metadata": {},
   "outputs": [],
   "source": []
  },
  {
   "cell_type": "code",
   "execution_count": 3,
   "metadata": {},
   "outputs": [],
   "source": [
    "def get_labels():\n",
    "    labels_dict = {\n",
    "        'happy': [\n",
    "            '哈哈',\n",
    "            '偷笑',\n",
    "            '嘻嘻',\n",
    "            '耶',\n",
    "            '太开心',\n",
    "            '太開心',\n",
    "            '(^_^)',\n",
    "            '(*^__^*)',\n",
    "            '(^o^)',\n",
    "            '(^.^)',\n",
    "            'O(∩_∩)O',\n",
    "        ],\n",
    "        'sad': [\n",
    "            '[泪]',\n",
    "            '[涙]',\n",
    "            '[傷心]',\n",
    "            '[悲傷]',\n",
    "            '[失望]',\n",
    "            '[伤心]',\n",
    "            '(T_T)',\n",
    "            '(T.T)',\n",
    "            '(T^T)',\n",
    "            '(ᅲ.ᅲ)',\n",
    "            '(╯_╰)',\n",
    "        ],\n",
    "        'angry': [\n",
    "            '[怒]',\n",
    "            '[抓狂]',\n",
    "            '[哼]',\n",
    "            '[左哼哼]',\n",
    "            '[右哼哼]',\n",
    "            '[怒骂]',\n",
    "            '[鄙视]',\n",
    "            '(╰_╯)',\n",
    "        ],\n",
    "        'disgust': [\n",
    "            '[汗]',\n",
    "            '[晕]',\n",
    "            '[暈]',\n",
    "            '[鄙视]', \n",
    "            '[鄙視]', \n",
    "            '[黑線]', \n",
    "            '[囧]', \n",
    "            '[黑线]', \n",
    "            '[吐]',\n",
    "        ],\n",
    "        'fear': [\n",
    "            '[可怜]', \n",
    "            '[生病]', \n",
    "            '[委屈]',\n",
    "        ],\n",
    "        'suprise': [\n",
    "            '[吃惊]', \n",
    "            '[吃驚]',\n",
    "            'OMG',\n",
    "            '(0.o)',\n",
    "            '(O_o)',\n",
    "            '(@_@)',\n",
    "        ],\n",
    "#         'neutral': [\n",
    "#             '[酷]', \n",
    "#             '[疑问]', \n",
    "#             '[握手]', \n",
    "#             '[疑問]', \n",
    "#             '[可爱]', \n",
    "#             '[可愛]', \n",
    "#             '[微风]', \n",
    "#             '[浮云]', \n",
    "#             '[浮雲]', \n",
    "#             '[兔子]', \n",
    "#             '[思考]', \n",
    "#             '[困]',\n",
    "#         ],\n",
    "    }\n",
    "    labels = {}\n",
    "    for k, v in labels_dict.items():\n",
    "        for vv in v:\n",
    "            labels[vv] = k\n",
    "    \n",
    "    return labels"
   ]
  },
  {
   "cell_type": "code",
   "execution_count": 4,
   "metadata": {},
   "outputs": [],
   "source": [
    "LABELS = get_labels()"
   ]
  },
  {
   "cell_type": "code",
   "execution_count": 5,
   "metadata": {},
   "outputs": [
    {
     "name": "stdout",
     "output_type": "stream",
     "text": [
      "{'(^.^)': 'happy', '(T_T)': 'sad', '[生病]': 'fear', '耶': 'happy', '哈哈': 'happy', '[鄙视]': 'disgust', '(^o^)': 'happy', '(0.o)': 'suprise', '(╰_╯)': 'angry', '[鄙視]': 'disgust', '[晕]': 'disgust', '[吃驚]': 'suprise', '(T.T)': 'sad', 'O(∩_∩)O': 'happy', '太開心': 'happy', '[怒骂]': 'angry', '[抓狂]': 'angry', '[涙]': 'sad', '[悲傷]': 'sad', '太开心': 'happy', '[黑線]': 'disgust', '(T^T)': 'sad', '(ᅲ.ᅲ)': 'sad', '[伤心]': 'sad', '[囧]': 'disgust', '[委屈]': 'fear', '[泪]': 'sad', '[傷心]': 'sad', '(*^__^*)': 'happy', '(^_^)': 'happy', '[哼]': 'angry', '[吃惊]': 'suprise', '嘻嘻': 'happy', '[左哼哼]': 'angry', '[可怜]': 'fear', '(╯_╰)': 'sad', '[黑线]': 'disgust', '偷笑': 'happy', '[汗]': 'disgust', '(@_@)': 'suprise', '[暈]': 'disgust', '[吐]': 'disgust', '[失望]': 'sad', '[怒]': 'angry', '[右哼哼]': 'angry', 'OMG': 'suprise', '(O_o)': 'suprise'}\n"
     ]
    }
   ],
   "source": [
    "print(LABELS)"
   ]
  },
  {
   "cell_type": "code",
   "execution_count": null,
   "metadata": {},
   "outputs": [],
   "source": []
  },
  {
   "cell_type": "code",
   "execution_count": 6,
   "metadata": {},
   "outputs": [],
   "source": [
    "MIN_LENGTH = 10\n",
    "\n",
    "def extract_emotion(table):\n",
    "    emotion_from_table = []\n",
    "    for x in tqdm(table):\n",
    "        if len(x) <= 6:\n",
    "            continue\n",
    "        text = x[6]\n",
    "        # 转发取最后一个\n",
    "        if '//' in text:\n",
    "            text = text.split('//')[-1]\n",
    "        # remove at someone\n",
    "        text = re.sub(r'@[a-zA-Z_0-9\\u4e00-\\u9fff]+[:：]*(\\s+|$)', '', text)\n",
    "        # remove hash\n",
    "        text = re.sub(r'#[^#]+#\\s*', '', text)\n",
    "        # without face\n",
    "        text_without_face = re.sub(r'\\s*\\[[^\\]]+\\]\\s*', '', text)\n",
    "\n",
    "        m = re.findall(r'[\\u4e00-\\u9fff]+', text_without_face)\n",
    "\n",
    "        if len(m) < MIN_LENGTH:\n",
    "            continue\n",
    "\n",
    "        count = 0\n",
    "        signal_in_text = []\n",
    "        tag_in_text = None\n",
    "        for signal, tag in LABELS.items():\n",
    "            if signal in text:\n",
    "                if tag == tag_in_text:\n",
    "                    signal_in_text.append(signal)\n",
    "                    continue\n",
    "                elif count >= 1:\n",
    "                    signal_in_text = None\n",
    "                    tag_in_text = None\n",
    "                    break\n",
    "                else:\n",
    "                    count += 1\n",
    "                    signal_in_text.append(signal)\n",
    "                    tag_in_text = tag\n",
    "\n",
    "        if tag_in_text is not None:\n",
    "            clean_text = text_without_face\n",
    "            for s in signal_in_text:\n",
    "                clean_text = clean_text.replace(s, '')\n",
    "            emotion_from_table.append((\n",
    "                clean_text, text, tag_in_text, signal_in_text))\n",
    "    return emotion_from_table"
   ]
  },
  {
   "cell_type": "code",
   "execution_count": null,
   "metadata": {},
   "outputs": [],
   "source": []
  },
  {
   "cell_type": "code",
   "execution_count": 7,
   "metadata": {},
   "outputs": [],
   "source": [
    "root_dir = '/media/qhduan/Seagate Expansion Drive/DATASETS/weibo/'\n",
    "\n",
    "paths = []\n",
    "for dirpath, _, filenames in os.walk(root_dir):\n",
    "    paths += [\n",
    "        os.path.join(dirpath, x)\n",
    "        for x in filenames\n",
    "        if x.endswith('.csv') and 'week' in x\n",
    "    ]\n",
    "paths = sorted(paths)"
   ]
  },
  {
   "cell_type": "code",
   "execution_count": 8,
   "metadata": {},
   "outputs": [
    {
     "name": "stdout",
     "output_type": "stream",
     "text": [
      "52\n"
     ]
    }
   ],
   "source": [
    "print(len(paths))"
   ]
  },
  {
   "cell_type": "code",
   "execution_count": 9,
   "metadata": {},
   "outputs": [
    {
     "name": "stderr",
     "output_type": "stream",
     "text": [
      "45896it [00:00, 458890.42it/s]"
     ]
    },
    {
     "name": "stdout",
     "output_type": "stream",
     "text": [
      "read /media/qhduan/Seagate Expansion Drive/DATASETS/weibo/week1.csv\n"
     ]
    },
    {
     "name": "stderr",
     "output_type": "stream",
     "text": [
      "4790111it [00:15, 302407.98it/s]\n",
      "100%|██████████| 4633268/4633268 [00:24<00:00, 190433.69it/s]\n",
      "0it [00:00, ?it/s]"
     ]
    },
    {
     "name": "stdout",
     "output_type": "stream",
     "text": [
      "17482\n",
      "read /media/qhduan/Seagate Expansion Drive/DATASETS/weibo/week10.csv\n"
     ]
    },
    {
     "name": "stderr",
     "output_type": "stream",
     "text": [
      "3882568it [00:11, 325004.26it/s]\n",
      "100%|██████████| 3752958/3752958 [00:21<00:00, 172780.77it/s]\n",
      "45870it [00:00, 458643.58it/s]"
     ]
    },
    {
     "name": "stdout",
     "output_type": "stream",
     "text": [
      "16008\n",
      "read /media/qhduan/Seagate Expansion Drive/DATASETS/weibo/week11.csv\n"
     ]
    },
    {
     "name": "stderr",
     "output_type": "stream",
     "text": [
      "4082840it [00:12, 316133.23it/s]\n",
      "100%|██████████| 3950667/3950667 [00:21<00:00, 186155.02it/s]\n",
      "0it [00:00, ?it/s]"
     ]
    },
    {
     "name": "stdout",
     "output_type": "stream",
     "text": [
      "16201\n",
      "read /media/qhduan/Seagate Expansion Drive/DATASETS/weibo/week12.csv\n"
     ]
    },
    {
     "name": "stderr",
     "output_type": "stream",
     "text": [
      "5057574it [00:16, 306688.71it/s]\n",
      "100%|██████████| 4923979/4923979 [00:24<00:00, 197452.35it/s]\n",
      "48297it [00:00, 482851.89it/s]"
     ]
    },
    {
     "name": "stdout",
     "output_type": "stream",
     "text": [
      "17547\n",
      "read /media/qhduan/Seagate Expansion Drive/DATASETS/weibo/week13.csv\n"
     ]
    },
    {
     "name": "stderr",
     "output_type": "stream",
     "text": [
      "3612673it [00:11, 323174.86it/s]\n",
      "100%|██████████| 3488840/3488840 [00:18<00:00, 185105.97it/s]\n",
      "42629it [00:00, 426187.78it/s]"
     ]
    },
    {
     "name": "stdout",
     "output_type": "stream",
     "text": [
      "15443\n",
      "read /media/qhduan/Seagate Expansion Drive/DATASETS/weibo/week14.csv\n"
     ]
    },
    {
     "name": "stderr",
     "output_type": "stream",
     "text": [
      "2883248it [00:08, 327762.39it/s]\n",
      "100%|██████████| 2780423/2780423 [00:15<00:00, 179102.54it/s]\n",
      "46168it [00:00, 461513.19it/s]"
     ]
    },
    {
     "name": "stdout",
     "output_type": "stream",
     "text": [
      "12315\n",
      "read /media/qhduan/Seagate Expansion Drive/DATASETS/weibo/week15.csv\n"
     ]
    },
    {
     "name": "stderr",
     "output_type": "stream",
     "text": [
      "3018789it [00:08, 351407.28it/s]\n",
      "100%|██████████| 2908859/2908859 [00:16<00:00, 177600.93it/s]\n",
      "50004it [00:00, 499795.01it/s]"
     ]
    },
    {
     "name": "stdout",
     "output_type": "stream",
     "text": [
      "13068\n",
      "read /media/qhduan/Seagate Expansion Drive/DATASETS/weibo/week16.csv\n"
     ]
    },
    {
     "name": "stderr",
     "output_type": "stream",
     "text": [
      "2716455it [00:10, 268418.56it/s]\n",
      "100%|██████████| 2611911/2611911 [00:16<00:00, 161756.23it/s]\n",
      "45197it [00:00, 451872.39it/s]"
     ]
    },
    {
     "name": "stdout",
     "output_type": "stream",
     "text": [
      "12696\n",
      "read /media/qhduan/Seagate Expansion Drive/DATASETS/weibo/week17.csv\n"
     ]
    },
    {
     "name": "stderr",
     "output_type": "stream",
     "text": [
      "3636668it [00:10, 350877.16it/s]\n",
      "100%|██████████| 3515449/3515449 [00:19<00:00, 178298.75it/s]\n",
      "0it [00:00, ?it/s]"
     ]
    },
    {
     "name": "stdout",
     "output_type": "stream",
     "text": [
      "13698\n",
      "read /media/qhduan/Seagate Expansion Drive/DATASETS/weibo/week18.csv\n"
     ]
    },
    {
     "name": "stderr",
     "output_type": "stream",
     "text": [
      "3626054it [00:12, 295744.24it/s]\n",
      "100%|██████████| 3507605/3507605 [00:18<00:00, 185197.23it/s]\n",
      "45144it [00:00, 451338.20it/s]"
     ]
    },
    {
     "name": "stdout",
     "output_type": "stream",
     "text": [
      "13555\n",
      "read /media/qhduan/Seagate Expansion Drive/DATASETS/weibo/week19.csv\n"
     ]
    },
    {
     "name": "stderr",
     "output_type": "stream",
     "text": [
      "4277841it [00:13, 312626.59it/s]\n",
      "100%|██████████| 4146731/4146731 [00:22<00:00, 186149.71it/s]\n",
      "37999it [00:00, 379863.57it/s]"
     ]
    },
    {
     "name": "stdout",
     "output_type": "stream",
     "text": [
      "14443\n",
      "read /media/qhduan/Seagate Expansion Drive/DATASETS/weibo/week2.csv\n"
     ]
    },
    {
     "name": "stderr",
     "output_type": "stream",
     "text": [
      "4868594it [00:16, 292069.25it/s]\n",
      "100%|██████████| 4712455/4712455 [00:26<00:00, 177973.53it/s]\n",
      "40050it [00:00, 400445.01it/s]"
     ]
    },
    {
     "name": "stdout",
     "output_type": "stream",
     "text": [
      "17503\n",
      "read /media/qhduan/Seagate Expansion Drive/DATASETS/weibo/week20.csv\n"
     ]
    },
    {
     "name": "stderr",
     "output_type": "stream",
     "text": [
      "3865475it [00:12, 298781.69it/s]\n",
      "100%|██████████| 3742022/3742022 [00:21<00:00, 173780.83it/s]\n",
      "34116it [00:00, 341116.41it/s]"
     ]
    },
    {
     "name": "stdout",
     "output_type": "stream",
     "text": [
      "14459\n",
      "read /media/qhduan/Seagate Expansion Drive/DATASETS/weibo/week21.csv\n"
     ]
    },
    {
     "name": "stderr",
     "output_type": "stream",
     "text": [
      "4969460it [00:17, 278160.87it/s]\n",
      "100%|██████████| 4825683/4825683 [00:25<00:00, 185883.54it/s]\n",
      "50643it [00:00, 506359.25it/s]"
     ]
    },
    {
     "name": "stdout",
     "output_type": "stream",
     "text": [
      "15809\n",
      "read /media/qhduan/Seagate Expansion Drive/DATASETS/weibo/week22.csv\n"
     ]
    },
    {
     "name": "stderr",
     "output_type": "stream",
     "text": [
      "6639070it [00:22, 293133.05it/s]\n",
      "100%|██████████| 6469177/6469177 [00:33<00:00, 192733.11it/s]\n",
      "36601it [00:00, 365502.31it/s]"
     ]
    },
    {
     "name": "stdout",
     "output_type": "stream",
     "text": [
      "19763\n",
      "read /media/qhduan/Seagate Expansion Drive/DATASETS/weibo/week23.csv\n"
     ]
    },
    {
     "name": "stderr",
     "output_type": "stream",
     "text": [
      "5067321it [00:16, 305172.07it/s]\n",
      "100%|██████████| 4925471/4925471 [00:26<00:00, 187893.66it/s]\n",
      "0it [00:00, ?it/s]"
     ]
    },
    {
     "name": "stdout",
     "output_type": "stream",
     "text": [
      "16891\n",
      "read /media/qhduan/Seagate Expansion Drive/DATASETS/weibo/week24.csv\n"
     ]
    },
    {
     "name": "stderr",
     "output_type": "stream",
     "text": [
      "6491779it [00:18, 344679.64it/s]\n",
      "100%|██████████| 6318912/6318912 [00:32<00:00, 191955.33it/s]\n",
      "45118it [00:00, 451125.58it/s]"
     ]
    },
    {
     "name": "stdout",
     "output_type": "stream",
     "text": [
      "18792\n",
      "read /media/qhduan/Seagate Expansion Drive/DATASETS/weibo/week25.csv\n"
     ]
    },
    {
     "name": "stderr",
     "output_type": "stream",
     "text": [
      "5710391it [00:19, 297072.28it/s]\n",
      "100%|██████████| 5549420/5549420 [00:32<00:00, 171711.66it/s]\n",
      "37825it [00:00, 375356.19it/s]"
     ]
    },
    {
     "name": "stdout",
     "output_type": "stream",
     "text": [
      "18530\n",
      "read /media/qhduan/Seagate Expansion Drive/DATASETS/weibo/week26.csv\n"
     ]
    },
    {
     "name": "stderr",
     "output_type": "stream",
     "text": [
      "6032573it [00:18, 322824.26it/s]\n",
      "100%|██████████| 5875379/5875379 [00:33<00:00, 174204.23it/s]\n",
      "44378it [00:00, 443719.06it/s]"
     ]
    },
    {
     "name": "stdout",
     "output_type": "stream",
     "text": [
      "17388\n",
      "read /media/qhduan/Seagate Expansion Drive/DATASETS/weibo/week27.csv\n"
     ]
    },
    {
     "name": "stderr",
     "output_type": "stream",
     "text": [
      "6319898it [00:23, 272025.46it/s]\n",
      "100%|██████████| 6156266/6156266 [00:35<00:00, 173493.20it/s]\n",
      "40152it [00:00, 401462.00it/s]"
     ]
    },
    {
     "name": "stdout",
     "output_type": "stream",
     "text": [
      "22312\n",
      "read /media/qhduan/Seagate Expansion Drive/DATASETS/weibo/week28.csv\n"
     ]
    },
    {
     "name": "stderr",
     "output_type": "stream",
     "text": [
      "5541848it [00:18, 297182.53it/s]\n",
      "100%|██████████| 5384880/5384880 [00:30<00:00, 179440.83it/s]\n",
      "39952it [00:00, 399468.95it/s]"
     ]
    },
    {
     "name": "stdout",
     "output_type": "stream",
     "text": [
      "16830\n",
      "read /media/qhduan/Seagate Expansion Drive/DATASETS/weibo/week29.csv\n"
     ]
    },
    {
     "name": "stderr",
     "output_type": "stream",
     "text": [
      "4499735it [00:16, 277923.82it/s]\n",
      "100%|██████████| 4369676/4369676 [00:26<00:00, 167407.03it/s]\n",
      "41324it [00:00, 413173.41it/s]"
     ]
    },
    {
     "name": "stdout",
     "output_type": "stream",
     "text": [
      "15489\n",
      "read /media/qhduan/Seagate Expansion Drive/DATASETS/weibo/week3.csv\n"
     ]
    },
    {
     "name": "stderr",
     "output_type": "stream",
     "text": [
      "3892054it [00:12, 303066.48it/s]\n",
      "100%|██████████| 3759701/3759701 [00:21<00:00, 173269.06it/s]\n",
      "35513it [00:00, 355088.01it/s]"
     ]
    },
    {
     "name": "stdout",
     "output_type": "stream",
     "text": [
      "16202\n",
      "read /media/qhduan/Seagate Expansion Drive/DATASETS/weibo/week30.csv\n"
     ]
    },
    {
     "name": "stderr",
     "output_type": "stream",
     "text": [
      "4825459it [00:15, 321228.01it/s]\n",
      "100%|██████████| 4700212/4700212 [00:26<00:00, 175265.29it/s]\n",
      "42362it [00:00, 423554.76it/s]"
     ]
    },
    {
     "name": "stdout",
     "output_type": "stream",
     "text": [
      "15249\n",
      "read /media/qhduan/Seagate Expansion Drive/DATASETS/weibo/week31.csv\n"
     ]
    },
    {
     "name": "stderr",
     "output_type": "stream",
     "text": [
      "4382999it [00:17, 250541.94it/s]\n",
      "100%|██████████| 4244847/4244847 [00:23<00:00, 180414.19it/s]\n",
      "40922it [00:00, 409168.69it/s]"
     ]
    },
    {
     "name": "stdout",
     "output_type": "stream",
     "text": [
      "16147\n",
      "read /media/qhduan/Seagate Expansion Drive/DATASETS/weibo/week32.csv\n"
     ]
    },
    {
     "name": "stderr",
     "output_type": "stream",
     "text": [
      "3774902it [00:10, 368354.72it/s]\n",
      "100%|██████████| 3663870/3663870 [00:21<00:00, 171112.47it/s]\n",
      "37209it [00:00, 371940.49it/s]"
     ]
    },
    {
     "name": "stdout",
     "output_type": "stream",
     "text": [
      "17634\n",
      "read /media/qhduan/Seagate Expansion Drive/DATASETS/weibo/week33.csv\n"
     ]
    },
    {
     "name": "stderr",
     "output_type": "stream",
     "text": [
      "5001462it [00:19, 254281.87it/s]\n",
      "100%|██████████| 4795119/4795119 [00:26<00:00, 177637.65it/s]\n",
      "42965it [00:00, 429584.86it/s]"
     ]
    },
    {
     "name": "stdout",
     "output_type": "stream",
     "text": [
      "19821\n",
      "read /media/qhduan/Seagate Expansion Drive/DATASETS/weibo/week34.csv\n"
     ]
    },
    {
     "name": "stderr",
     "output_type": "stream",
     "text": [
      "5802357it [00:18, 305453.99it/s]\n",
      "100%|██████████| 5624962/5624962 [00:31<00:00, 180577.18it/s]\n",
      "50349it [00:00, 503269.70it/s]"
     ]
    },
    {
     "name": "stdout",
     "output_type": "stream",
     "text": [
      "21429\n",
      "read /media/qhduan/Seagate Expansion Drive/DATASETS/weibo/week35.csv\n"
     ]
    },
    {
     "name": "stderr",
     "output_type": "stream",
     "text": [
      "3961741it [00:13, 303174.94it/s]\n",
      "100%|██████████| 3835442/3835442 [00:22<00:00, 167143.53it/s]\n",
      "47488it [00:00, 472854.56it/s]"
     ]
    },
    {
     "name": "stdout",
     "output_type": "stream",
     "text": [
      "15135\n",
      "read /media/qhduan/Seagate Expansion Drive/DATASETS/weibo/week36.csv\n"
     ]
    },
    {
     "name": "stderr",
     "output_type": "stream",
     "text": [
      "3263539it [00:10, 299528.91it/s]\n",
      "100%|██████████| 3149346/3149346 [00:19<00:00, 164419.99it/s]\n",
      "47861it [00:00, 478548.85it/s]"
     ]
    },
    {
     "name": "stdout",
     "output_type": "stream",
     "text": [
      "14494\n",
      "read /media/qhduan/Seagate Expansion Drive/DATASETS/weibo/week37.csv\n"
     ]
    },
    {
     "name": "stderr",
     "output_type": "stream",
     "text": [
      "3331673it [00:10, 324645.80it/s]\n",
      "100%|██████████| 3215910/3215910 [00:21<00:00, 151978.14it/s]\n",
      "36972it [00:00, 368339.84it/s]"
     ]
    },
    {
     "name": "stdout",
     "output_type": "stream",
     "text": [
      "14181\n",
      "read /media/qhduan/Seagate Expansion Drive/DATASETS/weibo/week38.csv\n"
     ]
    },
    {
     "name": "stderr",
     "output_type": "stream",
     "text": [
      "3296945it [00:10, 318349.83it/s]\n",
      "100%|██████████| 3188497/3188497 [00:18<00:00, 169392.85it/s]\n",
      "46609it [00:00, 466006.01it/s]"
     ]
    },
    {
     "name": "stdout",
     "output_type": "stream",
     "text": [
      "13240\n",
      "read /media/qhduan/Seagate Expansion Drive/DATASETS/weibo/week39.csv\n"
     ]
    },
    {
     "name": "stderr",
     "output_type": "stream",
     "text": [
      "3168355it [00:10, 316210.37it/s]\n",
      "100%|██████████| 3063956/3063956 [00:20<00:00, 151655.12it/s]\n",
      "42727it [00:00, 427220.50it/s]"
     ]
    },
    {
     "name": "stdout",
     "output_type": "stream",
     "text": [
      "14497\n",
      "read /media/qhduan/Seagate Expansion Drive/DATASETS/weibo/week4.csv\n"
     ]
    },
    {
     "name": "stderr",
     "output_type": "stream",
     "text": [
      "4005728it [00:13, 299169.76it/s]\n",
      "100%|██████████| 3814910/3814910 [00:21<00:00, 175787.89it/s]\n",
      "41975it [00:00, 419686.36it/s]"
     ]
    },
    {
     "name": "stdout",
     "output_type": "stream",
     "text": [
      "19521\n",
      "read /media/qhduan/Seagate Expansion Drive/DATASETS/weibo/week40.csv\n"
     ]
    },
    {
     "name": "stderr",
     "output_type": "stream",
     "text": [
      "2541893it [00:08, 283611.46it/s]\n",
      "100%|██████████| 2450431/2450431 [00:14<00:00, 164953.14it/s]\n",
      "0it [00:00, ?it/s]"
     ]
    },
    {
     "name": "stdout",
     "output_type": "stream",
     "text": [
      "11004\n",
      "read /media/qhduan/Seagate Expansion Drive/DATASETS/weibo/week41.csv\n"
     ]
    },
    {
     "name": "stderr",
     "output_type": "stream",
     "text": [
      "3355310it [00:10, 307454.39it/s]\n",
      "100%|██████████| 3233386/3233386 [00:19<00:00, 167008.14it/s]\n",
      "46526it [00:00, 465136.24it/s]"
     ]
    },
    {
     "name": "stdout",
     "output_type": "stream",
     "text": [
      "14723\n",
      "read /media/qhduan/Seagate Expansion Drive/DATASETS/weibo/week42.csv\n"
     ]
    },
    {
     "name": "stderr",
     "output_type": "stream",
     "text": [
      "3477200it [00:11, 312685.28it/s]\n",
      "100%|██████████| 3358632/3358632 [00:20<00:00, 165593.08it/s]\n",
      "45882it [00:00, 458760.28it/s]"
     ]
    },
    {
     "name": "stdout",
     "output_type": "stream",
     "text": [
      "14891\n",
      "read /media/qhduan/Seagate Expansion Drive/DATASETS/weibo/week43.csv\n"
     ]
    },
    {
     "name": "stderr",
     "output_type": "stream",
     "text": [
      "3705655it [00:11, 326754.44it/s]\n",
      "100%|██████████| 3570565/3570565 [00:21<00:00, 168889.03it/s]\n",
      "48000it [00:00, 479201.85it/s]"
     ]
    },
    {
     "name": "stdout",
     "output_type": "stream",
     "text": [
      "15948\n",
      "read /media/qhduan/Seagate Expansion Drive/DATASETS/weibo/week44.csv\n"
     ]
    },
    {
     "name": "stderr",
     "output_type": "stream",
     "text": [
      "3790660it [00:11, 326091.33it/s]\n",
      "100%|██████████| 3671284/3671284 [00:20<00:00, 176983.36it/s]\n",
      "0it [00:00, ?it/s]"
     ]
    },
    {
     "name": "stdout",
     "output_type": "stream",
     "text": [
      "16267\n",
      "read /media/qhduan/Seagate Expansion Drive/DATASETS/weibo/week45.csv\n"
     ]
    },
    {
     "name": "stderr",
     "output_type": "stream",
     "text": [
      "4249807it [00:12, 327599.45it/s]\n",
      "100%|██████████| 4115190/4115190 [00:22<00:00, 186022.95it/s]\n",
      "47205it [00:00, 471988.56it/s]"
     ]
    },
    {
     "name": "stdout",
     "output_type": "stream",
     "text": [
      "17953\n",
      "read /media/qhduan/Seagate Expansion Drive/DATASETS/weibo/week46.csv\n"
     ]
    },
    {
     "name": "stderr",
     "output_type": "stream",
     "text": [
      "4063314it [00:11, 343592.72it/s]\n",
      "100%|██████████| 3940681/3940681 [00:21<00:00, 181230.74it/s]\n",
      "51067it [00:00, 510604.75it/s]"
     ]
    },
    {
     "name": "stdout",
     "output_type": "stream",
     "text": [
      "18618\n",
      "read /media/qhduan/Seagate Expansion Drive/DATASETS/weibo/week47.csv\n"
     ]
    },
    {
     "name": "stderr",
     "output_type": "stream",
     "text": [
      "4748598it [00:15, 311986.95it/s]\n",
      "100%|██████████| 4604138/4604138 [00:25<00:00, 182460.38it/s]\n",
      "50056it [00:00, 500494.85it/s]"
     ]
    },
    {
     "name": "stdout",
     "output_type": "stream",
     "text": [
      "20089\n",
      "read /media/qhduan/Seagate Expansion Drive/DATASETS/weibo/week48.csv\n"
     ]
    },
    {
     "name": "stderr",
     "output_type": "stream",
     "text": [
      "4960386it [00:17, 289807.09it/s]\n",
      "100%|██████████| 4808294/4808294 [00:26<00:00, 183720.02it/s]\n",
      "50062it [00:00, 500251.93it/s]"
     ]
    },
    {
     "name": "stdout",
     "output_type": "stream",
     "text": [
      "21180\n",
      "read /media/qhduan/Seagate Expansion Drive/DATASETS/weibo/week49.csv\n"
     ]
    },
    {
     "name": "stderr",
     "output_type": "stream",
     "text": [
      "5045252it [00:15, 324299.20it/s]\n",
      "100%|██████████| 4891398/4891398 [00:27<00:00, 181017.61it/s]\n",
      "43992it [00:00, 439810.32it/s]"
     ]
    },
    {
     "name": "stdout",
     "output_type": "stream",
     "text": [
      "21674\n",
      "read /media/qhduan/Seagate Expansion Drive/DATASETS/weibo/week5.csv\n"
     ]
    },
    {
     "name": "stderr",
     "output_type": "stream",
     "text": [
      "3493571it [00:09, 384853.58it/s]\n",
      "100%|██████████| 3368836/3368836 [00:17<00:00, 192026.92it/s]\n",
      "28957it [00:00, 289489.52it/s]"
     ]
    },
    {
     "name": "stdout",
     "output_type": "stream",
     "text": [
      "16438\n",
      "read /media/qhduan/Seagate Expansion Drive/DATASETS/weibo/week50.csv\n"
     ]
    },
    {
     "name": "stderr",
     "output_type": "stream",
     "text": [
      "5423924it [00:17, 308217.25it/s]\n",
      "100%|██████████| 5258672/5258672 [00:31<00:00, 167933.39it/s]\n",
      "47139it [00:00, 471255.62it/s]"
     ]
    },
    {
     "name": "stdout",
     "output_type": "stream",
     "text": [
      "23461\n",
      "read /media/qhduan/Seagate Expansion Drive/DATASETS/weibo/week51.csv\n"
     ]
    },
    {
     "name": "stderr",
     "output_type": "stream",
     "text": [
      "5296045it [00:16, 312014.99it/s]\n",
      "100%|██████████| 5123574/5123574 [00:28<00:00, 177396.27it/s]\n",
      "48736it [00:00, 487088.72it/s]"
     ]
    },
    {
     "name": "stdout",
     "output_type": "stream",
     "text": [
      "24951\n",
      "read /media/qhduan/Seagate Expansion Drive/DATASETS/weibo/week52.csv\n"
     ]
    },
    {
     "name": "stderr",
     "output_type": "stream",
     "text": [
      "4906327it [00:15, 313205.69it/s]\n",
      "100%|██████████| 4751433/4751433 [00:26<00:00, 179673.49it/s]\n",
      "39825it [00:00, 398166.84it/s]"
     ]
    },
    {
     "name": "stdout",
     "output_type": "stream",
     "text": [
      "23859\n",
      "read /media/qhduan/Seagate Expansion Drive/DATASETS/weibo/week6.csv\n"
     ]
    },
    {
     "name": "stderr",
     "output_type": "stream",
     "text": [
      "4037123it [00:09, 404507.64it/s]\n",
      "100%|██████████| 3904823/3904823 [00:20<00:00, 194808.23it/s]\n",
      "45483it [00:00, 453948.36it/s]"
     ]
    },
    {
     "name": "stdout",
     "output_type": "stream",
     "text": [
      "16248\n",
      "read /media/qhduan/Seagate Expansion Drive/DATASETS/weibo/week7.csv\n"
     ]
    },
    {
     "name": "stderr",
     "output_type": "stream",
     "text": [
      "4697486it [00:15, 303122.30it/s]\n",
      "100%|██████████| 4556239/4556239 [00:22<00:00, 199028.64it/s]\n",
      "50526it [00:00, 505203.87it/s]"
     ]
    },
    {
     "name": "stdout",
     "output_type": "stream",
     "text": [
      "17680\n",
      "read /media/qhduan/Seagate Expansion Drive/DATASETS/weibo/week8.csv\n"
     ]
    },
    {
     "name": "stderr",
     "output_type": "stream",
     "text": [
      "4739982it [00:11, 430643.67it/s]\n",
      "100%|██████████| 4595408/4595408 [00:22<00:00, 200984.90it/s]\n",
      "0it [00:00, ?it/s]"
     ]
    },
    {
     "name": "stdout",
     "output_type": "stream",
     "text": [
      "16496\n",
      "read /media/qhduan/Seagate Expansion Drive/DATASETS/weibo/week9.csv\n"
     ]
    },
    {
     "name": "stderr",
     "output_type": "stream",
     "text": [
      "4010777it [00:14, 269891.76it/s]\n",
      "100%|██████████| 3878452/3878452 [00:21<00:00, 182475.12it/s]"
     ]
    },
    {
     "name": "stdout",
     "output_type": "stream",
     "text": [
      "15708\n"
     ]
    },
    {
     "name": "stderr",
     "output_type": "stream",
     "text": [
      "\n"
     ]
    }
   ],
   "source": [
    "data = []\n",
    "for path in paths:\n",
    "    table = read_table(path)\n",
    "    emotion_from_table = extract_emotion(table)\n",
    "    print(len(emotion_from_table))\n",
    "    data += emotion_from_table"
   ]
  },
  {
   "cell_type": "code",
   "execution_count": null,
   "metadata": {},
   "outputs": [],
   "source": []
  },
  {
   "cell_type": "code",
   "execution_count": 10,
   "metadata": {},
   "outputs": [
    {
     "name": "stdout",
     "output_type": "stream",
     "text": [
      "880960\n"
     ]
    }
   ],
   "source": [
    "print(len(data))"
   ]
  },
  {
   "cell_type": "code",
   "execution_count": 11,
   "metadata": {},
   "outputs": [],
   "source": [
    "with open('data.pkl', 'wb') as fp:\n",
    "    pickle.dump(data, fp)"
   ]
  },
  {
   "cell_type": "code",
   "execution_count": null,
   "metadata": {},
   "outputs": [],
   "source": []
  },
  {
   "cell_type": "code",
   "execution_count": null,
   "metadata": {},
   "outputs": [],
   "source": []
  },
  {
   "cell_type": "code",
   "execution_count": null,
   "metadata": {},
   "outputs": [],
   "source": []
  }
 ],
 "metadata": {
  "kernelspec": {
   "display_name": "Python 3",
   "language": "python",
   "name": "python3"
  },
  "language_info": {
   "codemirror_mode": {
    "name": "ipython",
    "version": 3
   },
   "file_extension": ".py",
   "mimetype": "text/x-python",
   "name": "python",
   "nbconvert_exporter": "python",
   "pygments_lexer": "ipython3",
   "version": "3.5.2"
  }
 },
 "nbformat": 4,
 "nbformat_minor": 2
}
