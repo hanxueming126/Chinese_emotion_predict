{
 "cells": [
  {
   "cell_type": "code",
   "execution_count": 27,
   "metadata": {},
   "outputs": [],
   "source": [
    "import os\n",
    "import re\n",
    "import csv\n",
    "import pickle\n",
    "import pandas as pd\n",
    "from tqdm import tqdm\n",
    "from collections import Counter"
   ]
  },
  {
   "cell_type": "code",
   "execution_count": null,
   "metadata": {},
   "outputs": [],
   "source": []
  },
  {
   "cell_type": "code",
   "execution_count": 2,
   "metadata": {},
   "outputs": [],
   "source": [
    "def read_table(path):\n",
    "    print('read', path)\n",
    "    headers = None\n",
    "    table = []\n",
    "\n",
    "    fp = open(path, encoding='utf8', errors='ignore')\n",
    "\n",
    "    for line in tqdm(fp):\n",
    "        line = line.strip()\n",
    "        if line:\n",
    "            if headers is None:\n",
    "                headers = line.split(',')\n",
    "                continue\n",
    "\n",
    "            row = line.split(',')\n",
    "            if len(row) == len(headers):\n",
    "                table.append(row)\n",
    "#     df = pd.DataFrame(table[:20], columns=headers)\n",
    "#     emotion = []\n",
    "#     for x in tqdm(table):\n",
    "#         text = x[6]\n",
    "#         m = re.findall(r'\\[[\\u4e00-\\u9fff]{1,3}\\]', text)\n",
    "#         if m:\n",
    "#             emotion += m\n",
    "#     sample = [\n",
    "#         x\n",
    "#         for x in sorted(list(Counter(emotion).items()), key=lambda x: x[1], reverse=True)\n",
    "#         if x[1] >= 500\n",
    "#     ]\n",
    "#     print(len(sample))\n",
    "#     print(sample[:10])\n",
    "    return table"
   ]
  },
  {
   "cell_type": "code",
   "execution_count": null,
   "metadata": {},
   "outputs": [],
   "source": []
  },
  {
   "cell_type": "code",
   "execution_count": 3,
   "metadata": {},
   "outputs": [],
   "source": [
    "def get_labels():\n",
    "    labels_dict = {\n",
    "        'happy': [\n",
    "            '哈哈',\n",
    "            '偷笑',\n",
    "            '嘻嘻',\n",
    "            '耶',\n",
    "            '太开心',\n",
    "            '太開心',\n",
    "            '(^_^)',\n",
    "            '(*^__^*)',\n",
    "            '(^o^)',\n",
    "            '(^.^)',\n",
    "            'O(∩_∩)O',\n",
    "        ],\n",
    "        'sad': [\n",
    "            '[泪]',\n",
    "            '[涙]',\n",
    "            '[傷心]',\n",
    "            '[悲傷]',\n",
    "            '[失望]',\n",
    "            '[伤心]',\n",
    "            '(T_T)',\n",
    "            '(T.T)',\n",
    "            '(T^T)',\n",
    "            '(ᅲ.ᅲ)',\n",
    "            '(╯_╰)',\n",
    "        ],\n",
    "        'angry': [\n",
    "            '[怒]',\n",
    "            '[抓狂]',\n",
    "            '[哼]',\n",
    "            '[左哼哼]',\n",
    "            '[右哼哼]',\n",
    "            '[怒骂]',\n",
    "            '[鄙视]',\n",
    "            '(╰_╯)',\n",
    "        ],\n",
    "        'disgust': [\n",
    "            '[汗]',\n",
    "            '[晕]',\n",
    "            '[暈]',\n",
    "            '[鄙视]', \n",
    "            '[鄙視]', \n",
    "            '[黑線]', \n",
    "            '[囧]', \n",
    "            '[黑线]', \n",
    "            '[吐]',\n",
    "        ],\n",
    "        'fear': [\n",
    "            '[可怜]', \n",
    "            '[生病]', \n",
    "            '[委屈]',\n",
    "        ],\n",
    "        'suprise': [\n",
    "            '[吃惊]', \n",
    "            '[吃驚]',\n",
    "            'OMG',\n",
    "            '(0.o)',\n",
    "            '(O_o)',\n",
    "            '(@_@)',\n",
    "        ],\n",
    "        'neutral': [\n",
    "            '[酷]', \n",
    "            '[疑问]', \n",
    "            '[握手]', \n",
    "            '[疑問]', \n",
    "            '[可爱]', \n",
    "            '[可愛]', \n",
    "            '[微风]', \n",
    "            '[浮云]', \n",
    "            '[浮雲]', \n",
    "            '[兔子]', \n",
    "            '[思考]', \n",
    "            '[困]',\n",
    "        ],\n",
    "    }\n",
    "    labels = {}\n",
    "    for k, v in labels_dict.items():\n",
    "        for vv in v:\n",
    "            labels[vv] = k\n",
    "    \n",
    "    return labels"
   ]
  },
  {
   "cell_type": "code",
   "execution_count": 4,
   "metadata": {},
   "outputs": [],
   "source": [
    "LABELS = get_labels()"
   ]
  },
  {
   "cell_type": "code",
   "execution_count": 5,
   "metadata": {},
   "outputs": [
    {
     "name": "stdout",
     "output_type": "stream",
     "text": [
      "{'[囧]': 'disgust', '[汗]': 'disgust', '[生病]': 'fear', '[鄙视]': 'angry', '[可愛]': 'neutral', '[思考]': 'neutral', '[酷]': 'neutral', '[失望]': 'sad', '[黑線]': 'disgust', '(T.T)': 'sad', '太開心': 'happy', '[涙]': 'sad', '[怒]': 'angry', '(O_o)': 'suprise', '[黑线]': 'disgust', '(ᅲ.ᅲ)': 'sad', '[吐]': 'disgust', '[泪]': 'sad', '[兔子]': 'neutral', '[怒骂]': 'angry', '(T_T)': 'sad', '[困]': 'neutral', '[鄙視]': 'disgust', '[可爱]': 'neutral', '太开心': 'happy', '(0.o)': 'suprise', '[伤心]': 'sad', '[微风]': 'neutral', '(╯_╰)': 'sad', '[浮雲]': 'neutral', '偷笑': 'happy', '[疑問]': 'neutral', '[晕]': 'disgust', '[傷心]': 'sad', 'O(∩_∩)O': 'happy', '[右哼哼]': 'angry', '[悲傷]': 'sad', '耶': 'happy', '(*^__^*)': 'happy', '[吃惊]': 'suprise', '[浮云]': 'neutral', 'OMG': 'suprise', '哈哈': 'happy', '(T^T)': 'sad', '(^.^)': 'happy', '[委屈]': 'fear', '[抓狂]': 'angry', '[吃驚]': 'suprise', '[左哼哼]': 'angry', '(@_@)': 'suprise', '[可怜]': 'fear', '[疑问]': 'neutral', '[哼]': 'angry', '(^o^)': 'happy', '嘻嘻': 'happy', '[暈]': 'disgust', '[握手]': 'neutral', '(^_^)': 'happy', '(╰_╯)': 'angry'}\n"
     ]
    }
   ],
   "source": [
    "print(LABELS)"
   ]
  },
  {
   "cell_type": "code",
   "execution_count": null,
   "metadata": {},
   "outputs": [],
   "source": []
  },
  {
   "cell_type": "code",
   "execution_count": 19,
   "metadata": {},
   "outputs": [],
   "source": [
    "MIN_LENGTH = 10\n",
    "\n",
    "def extract_emotion(table):\n",
    "    emotion_from_table = []\n",
    "    for x in tqdm(table):\n",
    "        if len(x) <= 6:\n",
    "            continue\n",
    "        text = x[6]\n",
    "        # 转发取最后一个\n",
    "        if '//' in text:\n",
    "            text = text.split('//')[-1]\n",
    "        # remove at someone\n",
    "        text = re.sub(r'@[a-zA-Z_0-9\\u4e00-\\u9fff]+[:：]*(\\s+|$)', '', text)\n",
    "        # remove hash\n",
    "        text = re.sub(r'#[^#]+#\\s*', '', text)\n",
    "        # without face\n",
    "        text_without_face = re.sub(r'\\s*\\[[^\\]]+\\]\\s*', '', text)\n",
    "\n",
    "        m = re.findall(r'[\\u4e00-\\u9fff]+', text_without_face)\n",
    "\n",
    "        if len(m) < MIN_LENGTH:\n",
    "            continue\n",
    "\n",
    "        count = 0\n",
    "        signal_in_text = []\n",
    "        tag_in_text = None\n",
    "        for signal, tag in LABELS.items():\n",
    "            if signal in text:\n",
    "                if tag == tag_in_text:\n",
    "                    signal_in_text.append(signal)\n",
    "                    continue\n",
    "                elif count >= 1:\n",
    "                    signal_in_text = None\n",
    "                    tag_in_text = None\n",
    "                    break\n",
    "                else:\n",
    "                    count += 1\n",
    "                    signal_in_text.append(signal)\n",
    "                    tag_in_text = tag\n",
    "\n",
    "        if tag_in_text is not None:\n",
    "            clean_text = text_without_face\n",
    "            for s in signal_in_text:\n",
    "                clean_text = clean_text.replace(s, '')\n",
    "            emotion_from_table.append((\n",
    "                clean_text, text, tag_in_text, signal_in_text))\n",
    "    return emotion_from_table"
   ]
  },
  {
   "cell_type": "code",
   "execution_count": null,
   "metadata": {},
   "outputs": [],
   "source": []
  },
  {
   "cell_type": "code",
   "execution_count": 23,
   "metadata": {},
   "outputs": [],
   "source": [
    "root_dir = '/media/qhduan/Seagate Expansion Drive/DATASETS/weibo/'\n",
    "\n",
    "paths = []\n",
    "for dirpath, _, filenames in os.walk(root_dir):\n",
    "    paths += [\n",
    "        os.path.join(dirpath, x)\n",
    "        for x in filenames\n",
    "        if x.endswith('.csv') and 'week' in x\n",
    "    ]\n",
    "paths = sorted(paths)"
   ]
  },
  {
   "cell_type": "code",
   "execution_count": 24,
   "metadata": {},
   "outputs": [
    {
     "name": "stdout",
     "output_type": "stream",
     "text": [
      "52\n"
     ]
    }
   ],
   "source": [
    "print(len(paths))"
   ]
  },
  {
   "cell_type": "code",
   "execution_count": 25,
   "metadata": {},
   "outputs": [
    {
     "name": "stderr",
     "output_type": "stream",
     "text": [
      "45398it [00:00, 453915.50it/s]"
     ]
    },
    {
     "name": "stdout",
     "output_type": "stream",
     "text": [
      "read /media/qhduan/Seagate Expansion Drive/DATASETS/weibo/week1.csv\n"
     ]
    },
    {
     "name": "stderr",
     "output_type": "stream",
     "text": [
      "4790111it [00:16, 296170.25it/s]\n",
      "100%|██████████| 4633268/4633268 [00:26<00:00, 172901.54it/s]\n",
      "0it [00:00, ?it/s]"
     ]
    },
    {
     "name": "stdout",
     "output_type": "stream",
     "text": [
      "19083\n",
      "read /media/qhduan/Seagate Expansion Drive/DATASETS/weibo/week10.csv\n"
     ]
    },
    {
     "name": "stderr",
     "output_type": "stream",
     "text": [
      "3882568it [00:13, 286975.40it/s]\n",
      "100%|██████████| 3752958/3752958 [00:21<00:00, 174759.86it/s]\n",
      "0it [00:00, ?it/s]"
     ]
    },
    {
     "name": "stdout",
     "output_type": "stream",
     "text": [
      "18040\n",
      "read /media/qhduan/Seagate Expansion Drive/DATASETS/weibo/week11.csv\n"
     ]
    },
    {
     "name": "stderr",
     "output_type": "stream",
     "text": [
      "4082840it [00:13, 296958.04it/s]\n",
      "100%|██████████| 3950667/3950667 [00:23<00:00, 164860.23it/s]\n",
      "0it [00:00, ?it/s]"
     ]
    },
    {
     "name": "stdout",
     "output_type": "stream",
     "text": [
      "18371\n",
      "read /media/qhduan/Seagate Expansion Drive/DATASETS/weibo/week12.csv\n"
     ]
    },
    {
     "name": "stderr",
     "output_type": "stream",
     "text": [
      "5057574it [00:15, 327645.45it/s]\n",
      "100%|██████████| 4923979/4923979 [00:26<00:00, 183318.86it/s]\n",
      "0it [00:00, ?it/s]"
     ]
    },
    {
     "name": "stdout",
     "output_type": "stream",
     "text": [
      "19950\n",
      "read /media/qhduan/Seagate Expansion Drive/DATASETS/weibo/week13.csv\n"
     ]
    },
    {
     "name": "stderr",
     "output_type": "stream",
     "text": [
      "3612673it [00:12, 281723.10it/s]\n",
      "100%|██████████| 3488840/3488840 [00:20<00:00, 173314.03it/s]\n",
      "37065it [00:00, 370602.64it/s]"
     ]
    },
    {
     "name": "stdout",
     "output_type": "stream",
     "text": [
      "17577\n",
      "read /media/qhduan/Seagate Expansion Drive/DATASETS/weibo/week14.csv\n"
     ]
    },
    {
     "name": "stderr",
     "output_type": "stream",
     "text": [
      "2883248it [00:09, 307001.50it/s]\n",
      "100%|██████████| 2780423/2780423 [00:16<00:00, 167529.09it/s]\n",
      "28671it [00:00, 286673.37it/s]"
     ]
    },
    {
     "name": "stdout",
     "output_type": "stream",
     "text": [
      "13956\n",
      "read /media/qhduan/Seagate Expansion Drive/DATASETS/weibo/week15.csv\n"
     ]
    },
    {
     "name": "stderr",
     "output_type": "stream",
     "text": [
      "3018789it [00:08, 340510.87it/s]\n",
      "100%|██████████| 2908859/2908859 [00:16<00:00, 177807.98it/s]\n",
      "0it [00:00, ?it/s]"
     ]
    },
    {
     "name": "stdout",
     "output_type": "stream",
     "text": [
      "15011\n",
      "read /media/qhduan/Seagate Expansion Drive/DATASETS/weibo/week16.csv\n"
     ]
    },
    {
     "name": "stderr",
     "output_type": "stream",
     "text": [
      "2716455it [00:08, 315055.91it/s]\n",
      "100%|██████████| 2611911/2611911 [00:14<00:00, 175612.56it/s]\n",
      "40608it [00:00, 405933.28it/s]"
     ]
    },
    {
     "name": "stdout",
     "output_type": "stream",
     "text": [
      "14542\n",
      "read /media/qhduan/Seagate Expansion Drive/DATASETS/weibo/week17.csv\n"
     ]
    },
    {
     "name": "stderr",
     "output_type": "stream",
     "text": [
      "3636668it [00:13, 274428.45it/s]\n",
      "100%|██████████| 3515449/3515449 [00:18<00:00, 188037.43it/s]\n",
      "0it [00:00, ?it/s]"
     ]
    },
    {
     "name": "stdout",
     "output_type": "stream",
     "text": [
      "15444\n",
      "read /media/qhduan/Seagate Expansion Drive/DATASETS/weibo/week18.csv\n"
     ]
    },
    {
     "name": "stderr",
     "output_type": "stream",
     "text": [
      "3626054it [00:12, 299339.10it/s]\n",
      "100%|██████████| 3507605/3507605 [00:18<00:00, 192915.52it/s]\n",
      "0it [00:00, ?it/s]"
     ]
    },
    {
     "name": "stdout",
     "output_type": "stream",
     "text": [
      "15069\n",
      "read /media/qhduan/Seagate Expansion Drive/DATASETS/weibo/week19.csv\n"
     ]
    },
    {
     "name": "stderr",
     "output_type": "stream",
     "text": [
      "4277841it [00:13, 323146.51it/s]\n",
      "100%|██████████| 4146731/4146731 [00:20<00:00, 198083.99it/s]\n",
      "0it [00:00, ?it/s]"
     ]
    },
    {
     "name": "stdout",
     "output_type": "stream",
     "text": [
      "16283\n",
      "read /media/qhduan/Seagate Expansion Drive/DATASETS/weibo/week2.csv\n"
     ]
    },
    {
     "name": "stderr",
     "output_type": "stream",
     "text": [
      "4868594it [00:14, 334576.61it/s]\n",
      "100%|██████████| 4712455/4712455 [00:24<00:00, 189527.81it/s]\n",
      "0it [00:00, ?it/s]"
     ]
    },
    {
     "name": "stdout",
     "output_type": "stream",
     "text": [
      "19521\n",
      "read /media/qhduan/Seagate Expansion Drive/DATASETS/weibo/week20.csv\n"
     ]
    },
    {
     "name": "stderr",
     "output_type": "stream",
     "text": [
      "3865475it [00:12, 304420.15it/s]\n",
      "100%|██████████| 3742022/3742022 [00:19<00:00, 192505.09it/s]\n",
      "0it [00:00, ?it/s]"
     ]
    },
    {
     "name": "stdout",
     "output_type": "stream",
     "text": [
      "16022\n",
      "read /media/qhduan/Seagate Expansion Drive/DATASETS/weibo/week21.csv\n"
     ]
    },
    {
     "name": "stderr",
     "output_type": "stream",
     "text": [
      "4969460it [00:14, 334555.92it/s]\n",
      "100%|██████████| 4825683/4825683 [00:24<00:00, 196904.15it/s]\n",
      "0it [00:00, ?it/s]"
     ]
    },
    {
     "name": "stdout",
     "output_type": "stream",
     "text": [
      "17908\n",
      "read /media/qhduan/Seagate Expansion Drive/DATASETS/weibo/week22.csv\n"
     ]
    },
    {
     "name": "stderr",
     "output_type": "stream",
     "text": [
      "6639070it [00:21, 302766.81it/s]\n",
      "100%|██████████| 6469177/6469177 [00:31<00:00, 203832.60it/s]\n",
      "39692it [00:00, 396878.74it/s]"
     ]
    },
    {
     "name": "stdout",
     "output_type": "stream",
     "text": [
      "21973\n",
      "read /media/qhduan/Seagate Expansion Drive/DATASETS/weibo/week23.csv\n"
     ]
    },
    {
     "name": "stderr",
     "output_type": "stream",
     "text": [
      "5067321it [00:18, 274792.73it/s]\n",
      "100%|██████████| 4925471/4925471 [00:27<00:00, 180458.92it/s]\n",
      "0it [00:00, ?it/s]"
     ]
    },
    {
     "name": "stdout",
     "output_type": "stream",
     "text": [
      "21075\n",
      "read /media/qhduan/Seagate Expansion Drive/DATASETS/weibo/week24.csv\n"
     ]
    },
    {
     "name": "stderr",
     "output_type": "stream",
     "text": [
      "6491779it [00:19, 335013.48it/s]\n",
      "100%|██████████| 6318912/6318912 [00:34<00:00, 182305.57it/s]\n",
      "27829it [00:00, 278251.79it/s]"
     ]
    },
    {
     "name": "stdout",
     "output_type": "stream",
     "text": [
      "20733\n",
      "read /media/qhduan/Seagate Expansion Drive/DATASETS/weibo/week25.csv\n"
     ]
    },
    {
     "name": "stderr",
     "output_type": "stream",
     "text": [
      "5710391it [00:22, 248317.10it/s]\n",
      "100%|██████████| 5549420/5549420 [00:29<00:00, 185414.25it/s]\n",
      "42895it [00:00, 428710.21it/s]"
     ]
    },
    {
     "name": "stdout",
     "output_type": "stream",
     "text": [
      "20637\n",
      "read /media/qhduan/Seagate Expansion Drive/DATASETS/weibo/week26.csv\n"
     ]
    },
    {
     "name": "stderr",
     "output_type": "stream",
     "text": [
      "6032573it [00:14, 408994.00it/s]\n",
      "100%|██████████| 5875379/5875379 [00:32<00:00, 180625.63it/s]\n",
      "48643it [00:00, 486363.21it/s]"
     ]
    },
    {
     "name": "stdout",
     "output_type": "stream",
     "text": [
      "19928\n",
      "read /media/qhduan/Seagate Expansion Drive/DATASETS/weibo/week27.csv\n"
     ]
    },
    {
     "name": "stderr",
     "output_type": "stream",
     "text": [
      "6319898it [00:19, 322707.19it/s]\n",
      "100%|██████████| 6156266/6156266 [00:32<00:00, 187788.80it/s]\n",
      "0it [00:00, ?it/s]"
     ]
    },
    {
     "name": "stdout",
     "output_type": "stream",
     "text": [
      "24622\n",
      "read /media/qhduan/Seagate Expansion Drive/DATASETS/weibo/week28.csv\n"
     ]
    },
    {
     "name": "stderr",
     "output_type": "stream",
     "text": [
      "5541848it [00:18, 304606.98it/s]\n",
      "100%|██████████| 5384880/5384880 [00:28<00:00, 187230.33it/s]\n",
      "0it [00:00, ?it/s]"
     ]
    },
    {
     "name": "stdout",
     "output_type": "stream",
     "text": [
      "21068\n",
      "read /media/qhduan/Seagate Expansion Drive/DATASETS/weibo/week29.csv\n"
     ]
    },
    {
     "name": "stderr",
     "output_type": "stream",
     "text": [
      "4499735it [00:14, 308800.11it/s]\n",
      "100%|██████████| 4369676/4369676 [00:24<00:00, 179288.37it/s]\n",
      "0it [00:00, ?it/s]"
     ]
    },
    {
     "name": "stdout",
     "output_type": "stream",
     "text": [
      "17388\n",
      "read /media/qhduan/Seagate Expansion Drive/DATASETS/weibo/week3.csv\n"
     ]
    },
    {
     "name": "stderr",
     "output_type": "stream",
     "text": [
      "3892054it [00:12, 305094.82it/s]\n",
      "100%|██████████| 3759701/3759701 [00:22<00:00, 168561.83it/s]\n",
      "8392it [00:00, 83906.68it/s]"
     ]
    },
    {
     "name": "stdout",
     "output_type": "stream",
     "text": [
      "18015\n",
      "read /media/qhduan/Seagate Expansion Drive/DATASETS/weibo/week30.csv\n"
     ]
    },
    {
     "name": "stderr",
     "output_type": "stream",
     "text": [
      "4825459it [00:15, 309895.94it/s]\n",
      "100%|██████████| 4700212/4700212 [00:27<00:00, 173489.48it/s]\n",
      "0it [00:00, ?it/s]"
     ]
    },
    {
     "name": "stdout",
     "output_type": "stream",
     "text": [
      "17038\n",
      "read /media/qhduan/Seagate Expansion Drive/DATASETS/weibo/week31.csv\n"
     ]
    },
    {
     "name": "stderr",
     "output_type": "stream",
     "text": [
      "4382999it [00:16, 273414.01it/s]\n",
      "100%|██████████| 4244847/4244847 [00:25<00:00, 163577.57it/s]\n",
      "0it [00:00, ?it/s]"
     ]
    },
    {
     "name": "stdout",
     "output_type": "stream",
     "text": [
      "17972\n",
      "read /media/qhduan/Seagate Expansion Drive/DATASETS/weibo/week32.csv\n"
     ]
    },
    {
     "name": "stderr",
     "output_type": "stream",
     "text": [
      "3774902it [00:10, 345085.29it/s]\n",
      "100%|██████████| 3663870/3663870 [00:20<00:00, 176871.01it/s]\n",
      "43821it [00:00, 438085.08it/s]"
     ]
    },
    {
     "name": "stdout",
     "output_type": "stream",
     "text": [
      "18932\n",
      "read /media/qhduan/Seagate Expansion Drive/DATASETS/weibo/week33.csv\n"
     ]
    },
    {
     "name": "stderr",
     "output_type": "stream",
     "text": [
      "5001462it [00:19, 255211.40it/s]\n",
      "100%|██████████| 4795119/4795119 [00:27<00:00, 173147.00it/s]\n",
      "0it [00:00, ?it/s]"
     ]
    },
    {
     "name": "stdout",
     "output_type": "stream",
     "text": [
      "21364\n",
      "read /media/qhduan/Seagate Expansion Drive/DATASETS/weibo/week34.csv\n"
     ]
    },
    {
     "name": "stderr",
     "output_type": "stream",
     "text": [
      "5802357it [00:18, 306239.19it/s]\n",
      "100%|██████████| 5624962/5624962 [00:33<00:00, 168602.76it/s]\n",
      "0it [00:00, ?it/s]"
     ]
    },
    {
     "name": "stdout",
     "output_type": "stream",
     "text": [
      "22984\n",
      "read /media/qhduan/Seagate Expansion Drive/DATASETS/weibo/week35.csv\n"
     ]
    },
    {
     "name": "stderr",
     "output_type": "stream",
     "text": [
      "3961741it [00:12, 304762.24it/s]\n",
      "100%|██████████| 3835442/3835442 [00:26<00:00, 145559.97it/s]\n",
      "0it [00:00, ?it/s]"
     ]
    },
    {
     "name": "stdout",
     "output_type": "stream",
     "text": [
      "16832\n",
      "read /media/qhduan/Seagate Expansion Drive/DATASETS/weibo/week36.csv\n"
     ]
    },
    {
     "name": "stderr",
     "output_type": "stream",
     "text": [
      "3263539it [00:11, 282473.92it/s]\n",
      "100%|██████████| 3149346/3149346 [00:19<00:00, 159338.99it/s]\n",
      "40544it [00:00, 405373.70it/s]"
     ]
    },
    {
     "name": "stdout",
     "output_type": "stream",
     "text": [
      "16230\n",
      "read /media/qhduan/Seagate Expansion Drive/DATASETS/weibo/week37.csv\n"
     ]
    },
    {
     "name": "stderr",
     "output_type": "stream",
     "text": [
      "3331673it [00:12, 274466.53it/s]\n",
      "100%|██████████| 3215910/3215910 [00:20<00:00, 158383.02it/s]\n",
      "583it [00:00, 4845.24it/s]"
     ]
    },
    {
     "name": "stdout",
     "output_type": "stream",
     "text": [
      "15942\n",
      "read /media/qhduan/Seagate Expansion Drive/DATASETS/weibo/week38.csv\n"
     ]
    },
    {
     "name": "stderr",
     "output_type": "stream",
     "text": [
      "3296945it [00:13, 245388.70it/s]\n",
      "100%|██████████| 3188497/3188497 [00:19<00:00, 161911.60it/s]\n",
      "5874it [00:00, 58722.56it/s]"
     ]
    },
    {
     "name": "stdout",
     "output_type": "stream",
     "text": [
      "15019\n",
      "read /media/qhduan/Seagate Expansion Drive/DATASETS/weibo/week39.csv\n"
     ]
    },
    {
     "name": "stderr",
     "output_type": "stream",
     "text": [
      "3168355it [00:10, 301035.31it/s]\n",
      "100%|██████████| 3063956/3063956 [00:19<00:00, 160608.75it/s]\n",
      "0it [00:00, ?it/s]"
     ]
    },
    {
     "name": "stdout",
     "output_type": "stream",
     "text": [
      "16226\n",
      "read /media/qhduan/Seagate Expansion Drive/DATASETS/weibo/week4.csv\n"
     ]
    },
    {
     "name": "stderr",
     "output_type": "stream",
     "text": [
      "4005728it [00:13, 297304.86it/s]\n",
      "100%|██████████| 3814910/3814910 [00:20<00:00, 183332.41it/s]\n",
      "0it [00:00, ?it/s]"
     ]
    },
    {
     "name": "stdout",
     "output_type": "stream",
     "text": [
      "20578\n",
      "read /media/qhduan/Seagate Expansion Drive/DATASETS/weibo/week40.csv\n"
     ]
    },
    {
     "name": "stderr",
     "output_type": "stream",
     "text": [
      "2541893it [00:07, 334264.39it/s]\n",
      "100%|██████████| 2450431/2450431 [00:16<00:00, 151133.61it/s]\n",
      "33396it [00:00, 333918.92it/s]"
     ]
    },
    {
     "name": "stdout",
     "output_type": "stream",
     "text": [
      "12196\n",
      "read /media/qhduan/Seagate Expansion Drive/DATASETS/weibo/week41.csv\n"
     ]
    },
    {
     "name": "stderr",
     "output_type": "stream",
     "text": [
      "3355310it [00:13, 247679.96it/s]\n",
      "100%|██████████| 3233386/3233386 [00:20<00:00, 160951.02it/s]\n",
      "0it [00:00, ?it/s]"
     ]
    },
    {
     "name": "stdout",
     "output_type": "stream",
     "text": [
      "16627\n",
      "read /media/qhduan/Seagate Expansion Drive/DATASETS/weibo/week42.csv\n"
     ]
    },
    {
     "name": "stderr",
     "output_type": "stream",
     "text": [
      "3477200it [00:09, 360214.08it/s]\n",
      "100%|██████████| 3358632/3358632 [00:21<00:00, 156521.50it/s]\n",
      "44518it [00:00, 445120.99it/s]"
     ]
    },
    {
     "name": "stdout",
     "output_type": "stream",
     "text": [
      "16822\n",
      "read /media/qhduan/Seagate Expansion Drive/DATASETS/weibo/week43.csv\n"
     ]
    },
    {
     "name": "stderr",
     "output_type": "stream",
     "text": [
      "3705655it [00:12, 285712.33it/s]\n",
      "100%|██████████| 3570565/3570565 [00:22<00:00, 161113.03it/s]\n",
      "0it [00:00, ?it/s]"
     ]
    },
    {
     "name": "stdout",
     "output_type": "stream",
     "text": [
      "17842\n",
      "read /media/qhduan/Seagate Expansion Drive/DATASETS/weibo/week44.csv\n"
     ]
    },
    {
     "name": "stderr",
     "output_type": "stream",
     "text": [
      "3790660it [00:14, 259708.09it/s]\n",
      "100%|██████████| 3671284/3671284 [00:22<00:00, 164774.67it/s]\n",
      "15289it [00:00, 152873.38it/s]"
     ]
    },
    {
     "name": "stdout",
     "output_type": "stream",
     "text": [
      "18411\n",
      "read /media/qhduan/Seagate Expansion Drive/DATASETS/weibo/week45.csv\n"
     ]
    },
    {
     "name": "stderr",
     "output_type": "stream",
     "text": [
      "4249807it [00:11, 375144.17it/s]\n",
      "100%|██████████| 4115190/4115190 [00:24<00:00, 170283.33it/s]\n",
      "27049it [00:00, 270431.58it/s]"
     ]
    },
    {
     "name": "stdout",
     "output_type": "stream",
     "text": [
      "20317\n",
      "read /media/qhduan/Seagate Expansion Drive/DATASETS/weibo/week46.csv\n"
     ]
    },
    {
     "name": "stderr",
     "output_type": "stream",
     "text": [
      "4063314it [00:12, 317996.77it/s]\n",
      "100%|██████████| 3940681/3940681 [00:24<00:00, 163862.41it/s]\n",
      "27098it [00:00, 270944.08it/s]"
     ]
    },
    {
     "name": "stdout",
     "output_type": "stream",
     "text": [
      "21067\n",
      "read /media/qhduan/Seagate Expansion Drive/DATASETS/weibo/week47.csv\n"
     ]
    },
    {
     "name": "stderr",
     "output_type": "stream",
     "text": [
      "4748598it [00:18, 262804.55it/s]\n",
      "100%|██████████| 4604138/4604138 [00:27<00:00, 168796.74it/s]\n",
      "0it [00:00, ?it/s]"
     ]
    },
    {
     "name": "stdout",
     "output_type": "stream",
     "text": [
      "22995\n",
      "read /media/qhduan/Seagate Expansion Drive/DATASETS/weibo/week48.csv\n"
     ]
    },
    {
     "name": "stderr",
     "output_type": "stream",
     "text": [
      "4960386it [00:16, 306011.97it/s]\n",
      "100%|██████████| 4808294/4808294 [00:27<00:00, 172897.67it/s]\n",
      "0it [00:00, ?it/s]"
     ]
    },
    {
     "name": "stdout",
     "output_type": "stream",
     "text": [
      "24569\n",
      "read /media/qhduan/Seagate Expansion Drive/DATASETS/weibo/week49.csv\n"
     ]
    },
    {
     "name": "stderr",
     "output_type": "stream",
     "text": [
      "5045252it [00:13, 384751.01it/s]\n",
      "100%|██████████| 4891398/4891398 [00:30<00:00, 160523.31it/s]\n",
      "0it [00:00, ?it/s]"
     ]
    },
    {
     "name": "stdout",
     "output_type": "stream",
     "text": [
      "24413\n",
      "read /media/qhduan/Seagate Expansion Drive/DATASETS/weibo/week5.csv\n"
     ]
    },
    {
     "name": "stderr",
     "output_type": "stream",
     "text": [
      "3493571it [00:12, 289313.40it/s]\n",
      "100%|██████████| 3368836/3368836 [00:18<00:00, 177608.49it/s]\n",
      "45726it [00:00, 457201.57it/s]"
     ]
    },
    {
     "name": "stdout",
     "output_type": "stream",
     "text": [
      "18228\n",
      "read /media/qhduan/Seagate Expansion Drive/DATASETS/weibo/week50.csv\n"
     ]
    },
    {
     "name": "stderr",
     "output_type": "stream",
     "text": [
      "5423924it [00:19, 280264.83it/s]\n",
      "100%|██████████| 5258672/5258672 [00:31<00:00, 168037.38it/s]\n",
      "46692it [00:00, 466863.68it/s]"
     ]
    },
    {
     "name": "stdout",
     "output_type": "stream",
     "text": [
      "26373\n",
      "read /media/qhduan/Seagate Expansion Drive/DATASETS/weibo/week51.csv\n"
     ]
    },
    {
     "name": "stderr",
     "output_type": "stream",
     "text": [
      "5296045it [00:13, 394276.03it/s]\n",
      "100%|██████████| 5123574/5123574 [00:32<00:00, 159925.85it/s]\n",
      "0it [00:00, ?it/s]"
     ]
    },
    {
     "name": "stdout",
     "output_type": "stream",
     "text": [
      "27686\n",
      "read /media/qhduan/Seagate Expansion Drive/DATASETS/weibo/week52.csv\n"
     ]
    },
    {
     "name": "stderr",
     "output_type": "stream",
     "text": [
      "4906327it [00:15, 318663.82it/s]\n",
      "100%|██████████| 4751433/4751433 [00:32<00:00, 147793.23it/s]\n",
      "0it [00:00, ?it/s]"
     ]
    },
    {
     "name": "stdout",
     "output_type": "stream",
     "text": [
      "26531\n",
      "read /media/qhduan/Seagate Expansion Drive/DATASETS/weibo/week6.csv\n"
     ]
    },
    {
     "name": "stderr",
     "output_type": "stream",
     "text": [
      "4037123it [00:12, 334161.31it/s]\n",
      "100%|██████████| 3904823/3904823 [00:24<00:00, 162088.65it/s]\n",
      "15717it [00:00, 150553.66it/s]"
     ]
    },
    {
     "name": "stdout",
     "output_type": "stream",
     "text": [
      "18161\n",
      "read /media/qhduan/Seagate Expansion Drive/DATASETS/weibo/week7.csv\n"
     ]
    },
    {
     "name": "stderr",
     "output_type": "stream",
     "text": [
      "4697486it [00:15, 296346.17it/s]\n",
      "100%|██████████| 4556239/4556239 [00:27<00:00, 162989.39it/s]\n",
      "0it [00:00, ?it/s]"
     ]
    },
    {
     "name": "stdout",
     "output_type": "stream",
     "text": [
      "19516\n",
      "read /media/qhduan/Seagate Expansion Drive/DATASETS/weibo/week8.csv\n"
     ]
    },
    {
     "name": "stderr",
     "output_type": "stream",
     "text": [
      "4739982it [00:19, 239152.73it/s]\n",
      "100%|██████████| 4595408/4595408 [00:26<00:00, 174398.24it/s]\n",
      "0it [00:00, ?it/s]"
     ]
    },
    {
     "name": "stdout",
     "output_type": "stream",
     "text": [
      "18540\n",
      "read /media/qhduan/Seagate Expansion Drive/DATASETS/weibo/week9.csv\n"
     ]
    },
    {
     "name": "stderr",
     "output_type": "stream",
     "text": [
      "4010777it [00:12, 315467.09it/s]\n",
      "100%|██████████| 3878452/3878452 [00:23<00:00, 163804.89it/s]"
     ]
    },
    {
     "name": "stdout",
     "output_type": "stream",
     "text": [
      "17527\n"
     ]
    },
    {
     "name": "stderr",
     "output_type": "stream",
     "text": [
      "\n"
     ]
    }
   ],
   "source": [
    "data = []\n",
    "for path in paths:\n",
    "    table = read_table(path)\n",
    "    emotion_from_table = extract_emotion(table)\n",
    "    print(len(emotion_from_table))\n",
    "    data += emotion_from_table"
   ]
  },
  {
   "cell_type": "code",
   "execution_count": null,
   "metadata": {},
   "outputs": [],
   "source": []
  },
  {
   "cell_type": "code",
   "execution_count": 26,
   "metadata": {},
   "outputs": [
    {
     "name": "stdout",
     "output_type": "stream",
     "text": [
      "989154\n"
     ]
    }
   ],
   "source": [
    "print(len(data))"
   ]
  },
  {
   "cell_type": "code",
   "execution_count": 28,
   "metadata": {},
   "outputs": [],
   "source": [
    "with open('data.pkl', 'wb') as fp:\n",
    "    pickle.dump(data, fp)"
   ]
  },
  {
   "cell_type": "code",
   "execution_count": null,
   "metadata": {},
   "outputs": [],
   "source": []
  },
  {
   "cell_type": "code",
   "execution_count": null,
   "metadata": {},
   "outputs": [],
   "source": []
  },
  {
   "cell_type": "code",
   "execution_count": null,
   "metadata": {},
   "outputs": [],
   "source": []
  }
 ],
 "metadata": {
  "kernelspec": {
   "display_name": "Python 3",
   "language": "python",
   "name": "python3"
  },
  "language_info": {
   "codemirror_mode": {
    "name": "ipython",
    "version": 3
   },
   "file_extension": ".py",
   "mimetype": "text/x-python",
   "name": "python",
   "nbconvert_exporter": "python",
   "pygments_lexer": "ipython3",
   "version": "3.5.2"
  }
 },
 "nbformat": 4,
 "nbformat_minor": 2
}
