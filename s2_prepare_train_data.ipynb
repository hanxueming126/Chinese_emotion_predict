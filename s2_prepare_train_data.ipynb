{
 "cells": [
  {
   "cell_type": "code",
   "execution_count": 1,
   "metadata": {},
   "outputs": [
    {
     "name": "stderr",
     "output_type": "stream",
     "text": [
      "/home/qhduan/Work/cpu/lib/python3.5/site-packages/h5py/__init__.py:34: FutureWarning: Conversion of the second argument of issubdtype from `float` to `np.floating` is deprecated. In future, it will be treated as `np.float64 == np.dtype(float).type`.\n",
      "  from ._conv import register_converters as _register_converters\n",
      "Using TensorFlow backend.\n"
     ]
    }
   ],
   "source": [
    "import pickle\n",
    "import numpy as np\n",
    "from collections import Counter\n",
    "from keras.utils import to_categorical\n",
    "from sklearn.model_selection import train_test_split\n",
    "from tqdm import tqdm\n",
    "from utils import MAX_LENGTH, LABEL_DICT"
   ]
  },
  {
   "cell_type": "code",
   "execution_count": null,
   "metadata": {},
   "outputs": [],
   "source": []
  },
  {
   "cell_type": "code",
   "execution_count": 2,
   "metadata": {},
   "outputs": [],
   "source": [
    "data = pickle.load(open('data.pkl', 'rb'))\n",
    "ws = pickle.load(open('ws.pkl', 'rb'))"
   ]
  },
  {
   "cell_type": "code",
   "execution_count": 3,
   "metadata": {},
   "outputs": [
    {
     "name": "stderr",
     "output_type": "stream",
     "text": [
      "  0%|          | 1997/880570 [00:00<00:44, 19960.50it/s]"
     ]
    },
    {
     "name": "stdout",
     "output_type": "stream",
     "text": [
      "len(x_test) 880570 880570\n"
     ]
    },
    {
     "name": "stderr",
     "output_type": "stream",
     "text": [
      "100%|██████████| 880570/880570 [00:44<00:00, 19888.22it/s]\n"
     ]
    }
   ],
   "source": [
    "x_text = []\n",
    "y_label = []\n",
    "for text, _, label, _ in data:\n",
    "    if len(text) > MAX_LENGTH:\n",
    "        continue\n",
    "    if label not in LABEL_DICT:\n",
    "        continue\n",
    "    x_text.append(text)\n",
    "    y_label.append(LABEL_DICT[label])\n",
    "\n",
    "print('len(x_test)', len(x_text), len(y_label))\n",
    "\n",
    "x_vec = np.array([\n",
    "    ws.transform(x, max_len=MAX_LENGTH)\n",
    "    for x in tqdm(x_text)\n",
    "])\n",
    "y_vec = to_categorical(y_label, len(LABEL_DICT))"
   ]
  },
  {
   "cell_type": "code",
   "execution_count": null,
   "metadata": {},
   "outputs": [],
   "source": []
  },
  {
   "cell_type": "code",
   "execution_count": 4,
   "metadata": {},
   "outputs": [],
   "source": [
    "x_train, x_test, y_train, y_test = train_test_split(\n",
    "    x_vec, y_vec,\n",
    "    test_size=0.4, random_state=0\n",
    ")"
   ]
  },
  {
   "cell_type": "code",
   "execution_count": null,
   "metadata": {},
   "outputs": [],
   "source": []
  },
  {
   "cell_type": "code",
   "execution_count": 5,
   "metadata": {},
   "outputs": [
    {
     "name": "stdout",
     "output_type": "stream",
     "text": [
      "{0: 'happy', 1: 'sad', 2: 'angry', 3: 'disgust', 4: 'fear', 5: 'suprise'}\n",
      "happy\t\t68.49%\t\t1.00\t\t361868\n",
      "sad\t\t9.90%\t\t6.92\t\t52316\n",
      "angry\t\t7.68%\t\t8.92\t\t40569\n",
      "disgust\t\t6.74%\t\t10.17\t\t35584\n",
      "fear\t\t4.12%\t\t16.63\t\t21758\n",
      "suprise\t\t3.08%\t\t22.27\t\t16247\n",
      "--------------------\n",
      "happy\t\t68.44%\t\t1.00\t\t241082\n",
      "sad\t\t9.93%\t\t6.89\t\t34985\n",
      "angry\t\t7.67%\t\t8.92\t\t27033\n",
      "disgust\t\t6.80%\t\t10.06\t\t23964\n",
      "fear\t\t4.20%\t\t16.29\t\t14796\n",
      "suprise\t\t2.94%\t\t23.25\t\t10368\n"
     ]
    }
   ],
   "source": [
    "inverse_ld = {v: k for k, v in LABEL_DICT.items()}\n",
    "print(inverse_ld)\n",
    "label_train = y_train.argmax(-1)\n",
    "label_test = y_test.argmax(-1)\n",
    "train_class_weight = {}\n",
    "counter = Counter(label_train)\n",
    "majority = max(counter.values())\n",
    "for i in range(len(LABEL_DICT)):\n",
    "    train_class_weight[i] = majority / counter[i]\n",
    "    print('{}\\t\\t{:.2f}%\\t\\t{:.2f}\\t\\t{}'.format(\n",
    "        inverse_ld[i],\n",
    "        counter[i] / len(x_train) * 100,\n",
    "        train_class_weight[i],\n",
    "        counter[i]\n",
    "    ))\n",
    "print('-' * 20)\n",
    "counter = Counter(label_test)\n",
    "majority = max(counter.values())\n",
    "for i in range(len(LABEL_DICT)):\n",
    "    print('{}\\t\\t{:.2f}%\\t\\t{:.2f}\\t\\t{}'.format(\n",
    "        inverse_ld[i],\n",
    "        counter[i] / len(x_test) * 100,\n",
    "        majority / counter[i],\n",
    "        counter[i]\n",
    "    ))"
   ]
  },
  {
   "cell_type": "code",
   "execution_count": null,
   "metadata": {},
   "outputs": [],
   "source": []
  },
  {
   "cell_type": "code",
   "execution_count": null,
   "metadata": {},
   "outputs": [],
   "source": []
  },
  {
   "cell_type": "code",
   "execution_count": 6,
   "metadata": {},
   "outputs": [],
   "source": [
    "with open('train_data.pkl', 'wb') as fp:\n",
    "    pickle.dump(\n",
    "        (x_train, x_test, y_train, y_test, train_class_weight),\n",
    "        fp\n",
    "    )"
   ]
  },
  {
   "cell_type": "code",
   "execution_count": null,
   "metadata": {},
   "outputs": [],
   "source": []
  }
 ],
 "metadata": {
  "kernelspec": {
   "display_name": "Python 3",
   "language": "python",
   "name": "python3"
  },
  "language_info": {
   "codemirror_mode": {
    "name": "ipython",
    "version": 3
   },
   "file_extension": ".py",
   "mimetype": "text/x-python",
   "name": "python",
   "nbconvert_exporter": "python",
   "pygments_lexer": "ipython3",
   "version": "3.5.2"
  }
 },
 "nbformat": 4,
 "nbformat_minor": 2
}
