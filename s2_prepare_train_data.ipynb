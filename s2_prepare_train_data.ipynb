{
 "cells": [
  {
   "cell_type": "code",
   "execution_count": 5,
   "metadata": {},
   "outputs": [],
   "source": [
    "import pickle\n",
    "import numpy as np\n",
    "from collections import Counter\n",
    "from keras.utils import to_categorical\n",
    "from sklearn.model_selection import train_test_split\n",
    "from tqdm import tqdm\n",
    "from utils import MAX_LENGTH, LABEL_DICT"
   ]
  },
  {
   "cell_type": "code",
   "execution_count": null,
   "metadata": {},
   "outputs": [],
   "source": []
  },
  {
   "cell_type": "code",
   "execution_count": 2,
   "metadata": {},
   "outputs": [],
   "source": [
    "data = pickle.load(open('data.pkl', 'rb'))\n",
    "ws = pickle.load(open('ws.pkl', 'rb'))"
   ]
  },
  {
   "cell_type": "code",
   "execution_count": 3,
   "metadata": {},
   "outputs": [
    {
     "name": "stderr",
     "output_type": "stream",
     "text": [
      "  0%|          | 1716/988697 [00:00<00:57, 17150.24it/s]"
     ]
    },
    {
     "name": "stdout",
     "output_type": "stream",
     "text": [
      "len(x_test) 988697 988697\n"
     ]
    },
    {
     "name": "stderr",
     "output_type": "stream",
     "text": [
      "100%|██████████| 988697/988697 [00:51<00:00, 19134.62it/s]\n"
     ]
    }
   ],
   "source": [
    "x_text = []\n",
    "y_label = []\n",
    "for text, _, label, _ in data:\n",
    "    if len(text) > MAX_LENGTH:\n",
    "        continue\n",
    "    if label not in LABEL_DICT:\n",
    "        continue\n",
    "    x_text.append(text)\n",
    "    y_label.append(LABEL_DICT[label])\n",
    "\n",
    "print('len(x_test)', len(x_text), len(y_label))\n",
    "\n",
    "x_vec = np.array([\n",
    "    ws.transform(x, max_len=MAX_LENGTH)\n",
    "    for x in tqdm(x_text)\n",
    "])\n",
    "y_vec = to_categorical(y_label, len(LABEL_DICT))"
   ]
  },
  {
   "cell_type": "code",
   "execution_count": null,
   "metadata": {},
   "outputs": [],
   "source": []
  },
  {
   "cell_type": "code",
   "execution_count": 4,
   "metadata": {},
   "outputs": [],
   "source": [
    "x_train, x_test, y_train, y_test = train_test_split(\n",
    "    x_vec, y_vec,\n",
    "    test_size=0.4, random_state=0\n",
    ")"
   ]
  },
  {
   "cell_type": "code",
   "execution_count": null,
   "metadata": {},
   "outputs": [],
   "source": []
  },
  {
   "cell_type": "code",
   "execution_count": 7,
   "metadata": {},
   "outputs": [
    {
     "name": "stdout",
     "output_type": "stream",
     "text": [
      "{0: 'happy', 1: 'sad', 2: 'angry', 3: 'disgust', 4: 'fear', 5: 'suprise', 6: 'neutral'}\n",
      "happy\t\t58.57%\t\t1.00\t\t347467\n",
      "sad\t\t8.55%\t\t6.85\t\t50699\n",
      "angry\t\t7.34%\t\t7.98\t\t43547\n",
      "disgust\t\t5.10%\t\t11.49\t\t30244\n",
      "fear\t\t3.50%\t\t16.72\t\t20787\n",
      "suprise\t\t2.56%\t\t22.85\t\t15205\n",
      "neutral\t\t14.37%\t\t4.07\t\t85269\n",
      "--------------------\n",
      "happy\t\t58.47%\t\t1.00\t\t231249\n",
      "sad\t\t8.63%\t\t6.77\t\t34143\n",
      "angry\t\t7.32%\t\t7.98\t\t28964\n",
      "disgust\t\t5.16%\t\t11.34\t\t20398\n",
      "fear\t\t3.51%\t\t16.67\t\t13875\n",
      "suprise\t\t2.56%\t\t22.84\t\t10125\n",
      "neutral\t\t14.34%\t\t4.08\t\t56725\n"
     ]
    }
   ],
   "source": [
    "inverse_ld = {v: k for k, v in LABEL_DICT.items()}\n",
    "print(inverse_ld)\n",
    "label_train = y_train.argmax(-1)\n",
    "label_test = y_test.argmax(-1)\n",
    "train_class_weight = {}\n",
    "counter = Counter(label_train)\n",
    "majority = max(counter.values())\n",
    "for i in range(len(LABEL_DICT)):\n",
    "    train_class_weight[i] = majority / counter[i]\n",
    "    print('{}\\t\\t{:.2f}%\\t\\t{:.2f}\\t\\t{}'.format(\n",
    "        inverse_ld[i],\n",
    "        counter[i] / len(x_train) * 100,\n",
    "        train_class_weight[i],\n",
    "        counter[i]\n",
    "    ))\n",
    "print('-' * 20)\n",
    "counter = Counter(label_test)\n",
    "majority = max(counter.values())\n",
    "for i in range(len(LABEL_DICT)):\n",
    "    print('{}\\t\\t{:.2f}%\\t\\t{:.2f}\\t\\t{}'.format(\n",
    "        inverse_ld[i],\n",
    "        counter[i] / len(x_test) * 100,\n",
    "        majority / counter[i],\n",
    "        counter[i]\n",
    "    ))"
   ]
  },
  {
   "cell_type": "code",
   "execution_count": null,
   "metadata": {},
   "outputs": [],
   "source": []
  },
  {
   "cell_type": "code",
   "execution_count": null,
   "metadata": {},
   "outputs": [],
   "source": []
  },
  {
   "cell_type": "code",
   "execution_count": 8,
   "metadata": {},
   "outputs": [],
   "source": [
    "with open('train_data.pkl', 'wb') as fp:\n",
    "    pickle.dump(\n",
    "        (x_train, x_test, y_train, y_test, train_class_weight),\n",
    "        fp\n",
    "    )"
   ]
  },
  {
   "cell_type": "code",
   "execution_count": null,
   "metadata": {},
   "outputs": [],
   "source": []
  }
 ],
 "metadata": {
  "kernelspec": {
   "display_name": "Python 3",
   "language": "python",
   "name": "python3"
  },
  "language_info": {
   "codemirror_mode": {
    "name": "ipython",
    "version": 3
   },
   "file_extension": ".py",
   "mimetype": "text/x-python",
   "name": "python",
   "nbconvert_exporter": "python",
   "pygments_lexer": "ipython3",
   "version": "3.5.2"
  }
 },
 "nbformat": 4,
 "nbformat_minor": 2
}
